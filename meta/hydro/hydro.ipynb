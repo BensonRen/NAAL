{
 "cells": [
  {
   "cell_type": "code",
   "execution_count": null,
   "metadata": {},
   "outputs": [],
   "source": [
    "import numpy as np\n",
    "import pandas as pd\n",
    "import sklearn"
   ]
  },
  {
   "cell_type": "code",
   "execution_count": null,
   "metadata": {},
   "outputs": [],
   "source": [
    "# Read in the data file\n",
    "data = np.loadtxt('yacht_hydrodynamics.dat')#, unpack=True)\n",
    "data"
   ]
  },
  {
   "cell_type": "code",
   "execution_count": 3,
   "metadata": {},
   "outputs": [],
   "source": [
    "# Separate x and y from data\n",
    "x = data.iloc[:, :-1]\n",
    "y = data.iloc[:, -1]"
   ]
  },
  {
   "cell_type": "code",
   "execution_count": 4,
   "metadata": {},
   "outputs": [],
   "source": [
    "# Normalize things into [-1, 1]\n",
    "x_max = np.max(x, axis=0)\n",
    "x_min = np.min(x, axis=0)\n",
    "x_mid = (x_max + x_min) / 2\n",
    "x_range = (x_max - x_min)\n",
    "y_max = np.max(y)\n",
    "y_min = np.min(y)\n",
    "y_mid = (y_max + y_min) / 2\n",
    "y_range = (y_max - y_min)\n",
    "\n",
    "# Only selecting the points with less than half\n",
    "x = x[y < y_mid]\n",
    "y = y[y < y_mid]\n",
    "\n",
    "# Recalculate the y ranges\n",
    "y_max = np.max(y)\n",
    "y_min = np.min(y)\n",
    "y_mid = (y_max + y_min) / 2\n",
    "y_range = (y_max - y_min)\n",
    "\n",
    "# Normalize\n",
    "x = ((x - x_min)/x_range - 0.5) * 2\n",
    "y = ((y - y_min)/y_range - 0.5) * 2"
   ]
  },
  {
   "cell_type": "code",
   "execution_count": 5,
   "metadata": {},
   "outputs": [
    {
     "data": {
      "text/plain": [
       "(array([7475., 2862., 1679., 1684.,  960.,  726.,  710.,  918., 1255.,\n",
       "        1681.]),\n",
       " array([-1. , -0.8, -0.6, -0.4, -0.2,  0. ,  0.2,  0.4,  0.6,  0.8,  1. ]),\n",
       " <BarContainer object of 10 artists>)"
      ]
     },
     "execution_count": 5,
     "metadata": {},
     "output_type": "execute_result"
    },
    {
     "data": {
      "image/png": "[encoded data removed]",
      "text/plain": [
       "<Figure size 432x288 with 1 Axes>"
      ]
     },
     "metadata": {
      "needs_background": "light"
     },
     "output_type": "display_data"
    }
   ],
   "source": [
    "import matplotlib.pyplot as plt\n",
    "plt.hist(y)"
   ]
  },
  {
   "cell_type": "code",
   "execution_count": 6,
   "metadata": {},
   "outputs": [
    {
     "name": "stdout",
     "output_type": "stream",
     "text": [
      "number_of_elements       1.0\n",
      "mean_atomic_mass         1.0\n",
      "wtd_mean_atomic_mass     1.0\n",
      "gmean_atomic_mass        1.0\n",
      "wtd_gmean_atomic_mass    1.0\n",
      "                        ... \n",
      "wtd_entropy_Valence      1.0\n",
      "range_Valence            1.0\n",
      "wtd_range_Valence        1.0\n",
      "std_Valence              1.0\n",
      "wtd_std_Valence          1.0\n",
      "Length: 81, dtype: float64\n",
      "number_of_elements      -1.0\n",
      "mean_atomic_mass        -1.0\n",
      "wtd_mean_atomic_mass    -1.0\n",
      "gmean_atomic_mass       -1.0\n",
      "wtd_gmean_atomic_mass   -1.0\n",
      "                        ... \n",
      "wtd_entropy_Valence     -1.0\n",
      "range_Valence           -1.0\n",
      "wtd_range_Valence       -1.0\n",
      "std_Valence             -1.0\n",
      "wtd_std_Valence         -1.0\n",
      "Length: 81, dtype: float64\n",
      "1.0\n"
     ]
    }
   ],
   "source": [
    "print(np.max(x, axis=0))\n",
    "print(np.min(x, axis=0))\n",
    "print(np.max(y))"
   ]
  },
  {
   "cell_type": "code",
   "execution_count": 63,
   "metadata": {},
   "outputs": [
    {
     "name": "stdout",
     "output_type": "stream",
     "text": [
      "num of train = 15960, num of test = 3990\n"
     ]
    }
   ],
   "source": [
    "# Split the train test data\n",
    "from sklearn.model_selection import train_test_split\n",
    "x_train, x_test, y_train, y_test = train_test_split(x.values, y.values, test_size=0.2, random_state=42)\n",
    "print('num of train = {}, num of test = {}'.format(len(x_train), len(x_test)))"
   ]
  },
  {
   "cell_type": "code",
   "execution_count": 64,
   "metadata": {},
   "outputs": [
    {
     "name": "stdout",
     "output_type": "stream",
     "text": [
      "-0.3591829441763569\n",
      "-0.35689230356990087\n",
      "-0.35872481605506573\n"
     ]
    }
   ],
   "source": [
    "print(np.mean(y_train))\n",
    "print(np.mean(y_test))\n",
    "print(np.mean(y))\n",
    "# print(type(x_train))\n",
    "# print(np.shape(x_train))\n",
    "# print(np.shape(y_train))"
   ]
  },
  {
   "cell_type": "code",
   "execution_count": 65,
   "metadata": {},
   "outputs": [
    {
     "name": "stdout",
     "output_type": "stream",
     "text": [
      "training score: 0.974109332391908\n",
      "testing score: 0.9024865341586409\n"
     ]
    }
   ],
   "source": [
    "# Train a random forest\n",
    "from sklearn.ensemble import RandomForestRegressor\n",
    "clf = RandomForestRegressor(n_estimators=50 ,max_depth=100, random_state=0, n_jobs=10)\n",
    "clf.fit(x_train, y_train)\n",
    "print('training score:', clf.score(x_train, y_train))\n",
    "print('testing score:', clf.score(x_test, y_test))"
   ]
  },
  {
   "cell_type": "code",
   "execution_count": 66,
   "metadata": {},
   "outputs": [],
   "source": [
    "# Evaluate the MSE difference\n",
    "test_MSE = np.mean(np.square(y_test - clf.predict(x_test)))\n",
    "train_MSE = np.mean(np.square(y_train - clf.predict(x_train)))"
   ]
  },
  {
   "cell_type": "code",
   "execution_count": 67,
   "metadata": {},
   "outputs": [
    {
     "name": "stdout",
     "output_type": "stream",
     "text": [
      "training MSE = 0.010568482577724908\n",
      "testing MSE = 0.03972208816692161\n"
     ]
    }
   ],
   "source": [
    "print('training MSE =', train_MSE)\n",
    "print('testing MSE =', test_MSE)"
   ]
  },
  {
   "cell_type": "code",
   "execution_count": 68,
   "metadata": {},
   "outputs": [
    {
     "name": "stdout",
     "output_type": "stream",
     "text": [
      "0.4081966034132609\n",
      "0.40734977291796753\n"
     ]
    }
   ],
   "source": [
    "# MSE for predicting the mean\n",
    "print(np.mean(np.square(y_train - np.mean(y_train))))\n",
    "print(np.mean(np.square(y_test - np.mean(y_test))))"
   ]
  },
  {
   "cell_type": "code",
   "execution_count": 76,
   "metadata": {},
   "outputs": [],
   "source": [
    "# Generate random points\n",
    "x_random = np.random.uniform(size=[20, 81]) * 2 - 1\n",
    "# Get the prediction of these random points\n",
    "y_random = clf.predict(x_random)\n",
    "\n",
    "# Get the test set\n",
    "x_test = np.random.uniform(size=[20000, 81]) * 2 - 1\n",
    "# Get the prediction of these random points\n",
    "y_test = clf.predict(x_test)"
   ]
  },
  {
   "cell_type": "code",
   "execution_count": 33,
   "metadata": {},
   "outputs": [
    {
     "name": "stdout",
     "output_type": "stream",
     "text": [
      "(2000, 82)\n"
     ]
    }
   ],
   "source": [
    "y_random = np.expand_dims(y_random, axis=1)\n",
    "xy = np.concatenate([x_random, y_random], axis=1)\n",
    "print(np.shape(xy))\n",
    "np.save('test_data.npy', xy)"
   ]
  },
  {
   "cell_type": "code",
   "execution_count": 53,
   "metadata": {},
   "outputs": [
    {
     "data": {
      "text/plain": [
       "(-1.0, 1.0)"
      ]
     },
     "execution_count": 53,
     "metadata": {},
     "output_type": "execute_result"
    },
    {
     "data": {
      "image/png": "[encoded data removed]",
      "text/plain": [
       "<Figure size 432x288 with 1 Axes>"
      ]
     },
     "metadata": {
      "needs_background": "light"
     },
     "output_type": "display_data"
    }
   ],
   "source": [
    "plt.hist(y_random, bins=20)\n",
    "plt.xlim([-1, 1])"
   ]
  },
  {
   "cell_type": "code",
   "execution_count": 77,
   "metadata": {},
   "outputs": [],
   "source": [
    "from sklearn.neural_network import MLPRegressor\n",
    "regr = MLPRegressor(hidden_layer_sizes=(200, 200, 200, 200, 200), max_iter=500).fit(x_random, y_random)\n",
    "# regr = MLPRegressor(hidden_layer_sizes=(100, 100, 100, 100, 100), max_iter=500).fit(x_random, y_random)\n",
    "# regr = MLPRegressor(hidden_layer_sizes=(200, 200, 200, 200, 200, 200),random_state=1, max_iter=500).fit(x_train, y_train)"
   ]
  },
  {
   "cell_type": "code",
   "execution_count": 78,
   "metadata": {},
   "outputs": [
    {
     "name": "stdout",
     "output_type": "stream",
     "text": [
      "training MSE = 0.0003134873293732985\n",
      "testing MSE = 0.03774610889620926\n"
     ]
    }
   ],
   "source": [
    "print('training MSE =', np.mean(np.square(y_random - regr.predict(x_random))))\n",
    "print('testing MSE =', np.mean(np.square(y_test - regr.predict(x_test))))"
   ]
  },
  {
   "cell_type": "code",
   "execution_count": 51,
   "metadata": {},
   "outputs": [
    {
     "data": {
      "text/plain": [
       "['super_conductor_oracle_rf.joblib']"
      ]
     },
     "execution_count": 51,
     "metadata": {},
     "output_type": "execute_result"
    }
   ],
   "source": [
    "import joblib\n",
    "joblib.dump(clf, \"super_conductor_oracle_rf.joblib\")"
   ]
  },
  {
   "cell_type": "markdown",
   "metadata": {},
   "source": []
  }
 ],
 "metadata": {
  "interpreter": {
   "hash": "e0c901c02675fee51393c33bfa502e33ca284fb17fdf86b8a4f5c9070382ed49"
  },
  "kernelspec": {
   "display_name": "Python 3.7.12 ('benicml': conda)",
   "language": "python",
   "name": "python3"
  },
  "language_info": {
   "codemirror_mode": {
    "name": "ipython",
    "version": 3
   },
   "file_extension": ".py",
   "mimetype": "text/x-python",
   "name": "python",
   "nbconvert_exporter": "python",
   "pygments_lexer": "ipython3",
   "version": "3.7.12"
  },
  "orig_nbformat": 4
 },
 "nbformat": 4,
 "nbformat_minor": 2
}
