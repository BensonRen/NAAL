{
 "cells": [
  {
   "cell_type": "markdown",
   "metadata": {},
   "source": [
    "# Result comparison for AL"
   ]
  },
  {
   "cell_type": "code",
   "execution_count": 1,
   "metadata": {},
   "outputs": [],
   "source": [
    "import numpy as np\n",
    "import pandas as pd\n",
    "import matplotlib.pyplot as plt\n",
    "import os"
   ]
  },
  {
   "cell_type": "code",
   "execution_count": 2,
   "metadata": {},
   "outputs": [],
   "source": [
    "def load_mses(folder):\n",
    "    \"\"\"\n",
    "    Load the mses of a certain model, being called by the aggregate function below\n",
    "    \"\"\"\n",
    "    test_mse = np.load(os.path.join(folder, 'test_mse.npy'))\n",
    "    train_mse = np.load(os.path.join(folder, 'train_mse.npy'))\n",
    "    selected_after_train_mse = np.load(os.path.join(folder, 'mse_selected_after_train.npy'))\n",
    "    return test_mse, train_mse, selected_after_train_mse\n",
    "\n",
    "def load_ensemble_mses(folder, num_trails, avg_test_mse_mat=None, avg_train_mse_mat=None, avg_selected_after_train_mse_mat=None):\n",
    "    \"\"\"\n",
    "    Load multiple mse file from different trails from num_trails parameter and \n",
    "    aggregate them by taking mean\n",
    "    \"\"\"\n",
    "    if avg_test_mse_mat is None:\n",
    "        avg_test_mse_mat, avg_train_mse_mat, avg_selected_after_train_mse_mat = load_matrix(folder, num_trails)\n",
    "    # Take the average\n",
    "    return np.mean(avg_test_mse_mat, axis=1), np.mean(avg_train_mse_mat, axis=1), np.mean(avg_selected_after_train_mse_mat, axis=1)\n",
    "\n",
    "def load_matrix(folder, num_trails):\n",
    "    \"\"\"\n",
    "    As the error is prone to outlier in the x value, therefore we can not simply do average (the outliers have explicitly higher weights)\n",
    "    Here we are showing the ratio of training and testing\n",
    "    \"\"\"\n",
    "    avg_test_mse_mat, avg_train_mse_mat, avg_selected_after_train_mse_mat = [], [], []\n",
    "    for i in range(num_trails):\n",
    "        # Replace to get the new folder name\n",
    "        folder_name = folder.replace('trail_0','trail_{}'.format(i))\n",
    "        # From folder name get all the mse lists\n",
    "        test_mse, train_mse, selected_after_train_mse = load_mses(folder_name)\n",
    "        # Average them\n",
    "        avg_test_mse_mat.append(test_mse)\n",
    "        avg_train_mse_mat.append(train_mse)\n",
    "        avg_selected_after_train_mse_mat.append(selected_after_train_mse)\n",
    "    avg_test_mse_mat = np.array(avg_test_mse_mat).transpose()\n",
    "    avg_train_mse_mat = np.array(avg_train_mse_mat).transpose()\n",
    "    avg_selected_after_train_mse_mat = np.array(avg_selected_after_train_mse_mat).transpose()\n",
    "    print('shape = ', np.shape(avg_test_mse_mat))\n",
    "    return avg_test_mse_mat, avg_train_mse_mat, avg_selected_after_train_mse_mat\n",
    "\n",
    "def load_coeff(folder, num_trails, mode):\n",
    "    \"\"\"\n",
    "    Loading the variance coefficient with real MSE\n",
    "    \"\"\"\n",
    "    var_coeff_mat = []\n",
    "    if mode == 'R':\n",
    "        npy_file = 'var_mse_coreff.npy'\n",
    "    elif mode == 'Tau':\n",
    "        npy_file = 'var_mse_tau.npy'\n",
    "    for i in range(num_trails):\n",
    "        folder_name = folder.replace('trail_0','trail_{}'.format(i))\n",
    "        file_name = os.path.join(folder_name, npy_file)\n",
    "        coef_list = np.load(file_name)\n",
    "        var_coeff_mat.append(np.copy(coef_list))\n",
    "    return var_coeff_mat\n",
    "\n",
    "def load_kendal_tau(folder, num_trails):\n",
    "    \"\"\"\n",
    "    Loading the variance Kendal's Tau \n",
    "    \"\"\"\n",
    "    return load_coeff(folder, num_trails, mode='Tau')\n",
    "\n",
    "def load_var_coeff(folder, num_trails):\n",
    "    \"\"\"\n",
    "    Loading the variance coefficient with real MSE\n",
    "    \"\"\"\n",
    "    return load_coeff(folder, num_trails, mode='R')\n"
   ]
  },
  {
   "cell_type": "code",
   "execution_count": 17,
   "metadata": {},
   "outputs": [
    {
     "name": "stdout",
     "output_type": "stream",
     "text": [
      "shape =  (38, 20)\n",
      "shape =  (38, 20)\n",
      "shape =  (38, 20)\n",
      "for MSE_retrain_True_bs_1024_pool_100_dx_5_step_38_x0_10_nmod_10_trail_0, dx = 5, x0 = 10\n",
      "20\n",
      "shape =  (38, 20)\n",
      "shape =  (38, 20)\n",
      "shape =  (38, 20)\n",
      "for MSE_retrain_False_bs_1024_pool_100_dx_5_step_38_x0_10_nmod_5_trail_0, dx = 5, x0 = 10\n",
      "20\n",
      "shape =  (38, 20)\n",
      "shape =  (38, 20)\n",
      "shape =  (38, 20)\n",
      "for MSE_retrain_True_bs_1024_pool_100_dx_5_step_38_x0_10_nmod_5_trail_0, dx = 5, x0 = 10\n",
      "20\n",
      "shape =  (38, 20)\n",
      "shape =  (38, 20)\n",
      "shape =  (38, 20)\n",
      "for MSE_retrain_False_bs_1024_pool_100_dx_5_step_38_x0_10_nmod_20_trail_0, dx = 5, x0 = 10\n",
      "20\n",
      "shape =  (38, 20)\n",
      "shape =  (38, 20)\n",
      "shape =  (38, 20)\n",
      "for MSE_retrain_False_bs_1024_pool_100_dx_5_step_38_x0_10_nmod_10_trail_0, dx = 5, x0 = 10\n",
      "20\n",
      "shape =  (38, 20)\n",
      "shape =  (38, 20)\n",
      "shape =  (38, 20)\n",
      "for MSE_retrain_True_bs_1024_pool_100_dx_5_step_38_x0_10_nmod_50_trail_0, dx = 5, x0 = 10\n",
      "20\n",
      "shape =  (38, 20)\n",
      "shape =  (38, 20)\n",
      "shape =  (38, 20)\n",
      "for MSE_retrain_True_bs_1024_pool_100_dx_5_step_38_x0_10_nmod_20_trail_0, dx = 5, x0 = 10\n",
      "20\n",
      "shape =  (38, 20)\n",
      "shape =  (38, 20)\n",
      "shape =  (38, 20)\n",
      "for MSE_retrain_False_bs_1024_pool_100_dx_5_step_38_x0_10_nmod_50_trail_0, dx = 5, x0 = 10\n",
      "20\n"
     ]
    },
    {
     "data": {
      "text/plain": [
       "<Figure size 576x288 with 0 Axes>"
      ]
     },
     "metadata": {},
     "output_type": "display_data"
    },
    {
     "data": {
      "text/plain": [
       "<Figure size 576x288 with 0 Axes>"
      ]
     },
     "metadata": {},
     "output_type": "display_data"
    },
    {
     "data": {
      "text/plain": [
       "<Figure size 576x288 with 0 Axes>"
      ]
     },
     "metadata": {},
     "output_type": "display_data"
    },
    {
     "data": {
      "text/plain": [
       "<Figure size 576x288 with 0 Axes>"
      ]
     },
     "metadata": {},
     "output_type": "display_data"
    },
    {
     "data": {
      "text/plain": [
       "<Figure size 576x288 with 0 Axes>"
      ]
     },
     "metadata": {},
     "output_type": "display_data"
    },
    {
     "data": {
      "text/plain": [
       "<Figure size 576x288 with 0 Axes>"
      ]
     },
     "metadata": {},
     "output_type": "display_data"
    },
    {
     "data": {
      "text/plain": [
       "<Figure size 576x288 with 0 Axes>"
      ]
     },
     "metadata": {},
     "output_type": "display_data"
    },
    {
     "data": {
      "text/plain": [
       "<Figure size 576x288 with 0 Axes>"
      ]
     },
     "metadata": {},
     "output_type": "display_data"
    },
    {
     "data": {
      "text/plain": [
       "<Figure size 576x288 with 0 Axes>"
      ]
     },
     "metadata": {},
     "output_type": "display_data"
    },
    {
     "data": {
      "text/plain": [
       "<Figure size 576x288 with 0 Axes>"
      ]
     },
     "metadata": {},
     "output_type": "display_data"
    },
    {
     "data": {
      "text/plain": [
       "<Figure size 576x288 with 0 Axes>"
      ]
     },
     "metadata": {},
     "output_type": "display_data"
    },
    {
     "data": {
      "text/plain": [
       "<Figure size 576x288 with 0 Axes>"
      ]
     },
     "metadata": {},
     "output_type": "display_data"
    },
    {
     "data": {
      "text/plain": [
       "<Figure size 576x288 with 0 Axes>"
      ]
     },
     "metadata": {},
     "output_type": "display_data"
    },
    {
     "data": {
      "text/plain": [
       "<Figure size 576x288 with 0 Axes>"
      ]
     },
     "metadata": {},
     "output_type": "display_data"
    },
    {
     "data": {
      "text/plain": [
       "<Figure size 576x288 with 0 Axes>"
      ]
     },
     "metadata": {},
     "output_type": "display_data"
    },
    {
     "data": {
      "text/plain": [
       "<Figure size 576x288 with 0 Axes>"
      ]
     },
     "metadata": {},
     "output_type": "display_data"
    }
   ],
   "source": [
    "num_trails = 20\n",
    "if num_trails <= 10:\n",
    "    alpha = 0.5\n",
    "else:\n",
    "    alpha = 0.2\n",
    "plot_var = True\n",
    "#MSE_retrain_False_bs_1024_pool_10_dx_5_x0_20_nmod_5\n",
    "#folder = 'results/fig'\n",
    "folder = '/home/sr365/NAAL/results/fig/retrain_True'\n",
    "#folder = '/home/sr365/NAAL/results/fig/retrain_False'\n",
    "#folder = 'results/fig/retrain_true_al_step_50/x0_20'\n",
    "\n",
    "#folder_list = ['/home/sr365/NAAL/results/fig/retrain_True', '/home/sr365/NAAL/results/fig/retrain_False','results/fig/retrain_true_al_step_50/x0_20']\n",
    "#folder_list = ['/home/sr365/NAAL/results/single_model']\n",
    "folder_list = ['results/30_sine_nmod']\n",
    "for folder in folder_list:\n",
    "    for file in os.listdir(folder):\n",
    "        cur_folder = os.path.join(folder, file)\n",
    "        # Makue sure this is a folder\n",
    "        if not os.path.isdir(cur_folder):\n",
    "            continue\n",
    "        # Only start from the M SE folders and look for comparison\n",
    "        if not 'MSE' in cur_folder or not 'trail_0' in cur_folder:# or 'nmod_20' in cur_folder:\n",
    "            continue\n",
    "        \n",
    "        VAR_test_mse_mat = None # This is for the case where it is not called\n",
    "\n",
    "        # The reading part\n",
    "        #MSE_test_mse, MSE_train_mse, MSE_selected_after_train_mse = load_mses(cur_folder)\n",
    "        MSE_test_mse_mat, MSE_train_mse_mat, MSE_selected_after_train_mse_mat = load_matrix(cur_folder, num_trails)\n",
    "        MSE_test_mse, MSE_train_mse, MSE_selected_after_train_mse = load_ensemble_mses(cur_folder, num_trails, MSE_test_mse_mat, MSE_train_mse_mat, MSE_selected_after_train_mse_mat)\n",
    "        \n",
    "        random_folder = cur_folder.replace('MSE','Random')\n",
    "        #RD_test_mse, RD_train_mse, RD_selected_after_train_mse = load_mses(random_folder)\n",
    "        Random_test_mse_mat, Random_train_mse_mat, Random_selected_after_train_mse_mat = load_matrix(random_folder, num_trails)\n",
    "        RD_test_mse, RD_train_mse, RD_selected_after_train_mse = load_ensemble_mses(random_folder, num_trails, Random_test_mse_mat, Random_train_mse_mat, Random_selected_after_train_mse_mat)\n",
    "\n",
    "        if plot_var:\n",
    "            # Var plotting\n",
    "            var_folder = cur_folder.replace('MSE','VAR')\n",
    "            VAR_test_mse_mat, VAR_train_mse_mat, VAR_selected_after_train_mse_mat = load_matrix(var_folder, num_trails)\n",
    "            VAR_test_mse, VAR_train_mse, VAR_selected_after_train_mse = load_ensemble_mses(var_folder, num_trails, VAR_test_mse_mat, VAR_train_mse_mat, VAR_selected_after_train_mse_mat)\n",
    "\n",
    "        dx = int(file.split('_dx_')[-1].split('_')[0])\n",
    "        x0 = int(file.split('_x0_')[-1].split('_')[0])\n",
    "        print('for {}, dx = {}, x0 = {}'.format(file, dx, x0))\n",
    "        # Use the xlabel with number of data points\n",
    "        x_label = np.array(range(len(MSE_test_mse))) * dx + x0\n",
    "        save_name = os.path.join(folder, file.replace('MSE_','').replace('_trail_0_',''))\n",
    "        ##########################################\n",
    "        # Plotting various MSE metrics together #\n",
    "        ##########################################\n",
    "        f = plt.figure(figsize=[8, 4])\n",
    "        #ax1 = plt.subplot(211)\n",
    "        plt.plot(x_label, MSE_test_mse, '-x', c='tab:blue', label='MSE test')\n",
    "        plt.plot(x_label, RD_test_mse, '-x', c='tab:orange', label='RD test')\n",
    "        plt.plot(x_label, MSE_train_mse, '--x', c='tab:blue', linewidth=2, label='MSE train')\n",
    "        plt.plot(x_label, RD_train_mse, '--x', c='tab:orange', linewidth=2, label='RD train')\n",
    "        if plot_var:\n",
    "            plt.plot(x_label, VAR_test_mse, '-x', c='tab:green', label='VAR test')\n",
    "            plt.plot(x_label, VAR_train_mse, '--x', c='tab:green', linewidth=2, label='VAR train')\n",
    "        plt.legend()\n",
    "        plt.yscale('log')\n",
    "        plt.xlabel('num_train')\n",
    "        plt.ylabel('MSE')\n",
    "        plt.title(os.path.basename(save_name))\n",
    "        plt.savefig(save_name+'.png')\n",
    "        plt.clf()\n",
    "\n",
    "        ###################################\n",
    "        # Plotting AL/Raondom Ratio plot #\n",
    "        ###################################\n",
    "        def plot_ratio(num, denom, x_value, ylabel, save_name):\n",
    "            # Get the MSE/Random ratio\n",
    "            test_mse_ratio = num / denom\n",
    "            test_mse_ratio = np.log(test_mse_ratio)\n",
    "            percent_better = np.mean(test_mse_ratio < 0)\n",
    "            #test_mse_ratio[test_mse_ratio < 1] = -np.log(1/test_mse_ratio[test_mse_ratio < 1])\n",
    "            #test_mse_ratio[test_mse_ratio >= 1] = np.log(test_mse_ratio[test_mse_ratio >= 1])\n",
    "            # Plot the ratio figure\n",
    "            f = plt.figure(figsize=[8, 4])\n",
    "            for i in range(num_trails):\n",
    "                plt.plot(x_value, test_mse_ratio[:, i],'x')\n",
    "            plt.plot(x_value, np.zeros_like(x_label),'--r', label='ref: {:.1f}%'.format(percent_better*100))\n",
    "            plt.legend()\n",
    "            #plt.ylim([-2, 2])\n",
    "            #plt.yscale('log')\n",
    "            plt.xlabel('num_train')\n",
    "            plt.ylabel(ylabel)\n",
    "            plt.title(os.path.basename(save_name))\n",
    "            plt.savefig(save_name + 'ratio_plot.png')\n",
    "            plt.clf()\n",
    "        \n",
    "        #######################################\n",
    "        # Plotting Test MSE comparison plot #\n",
    "        #######################################\n",
    "        def plot_test_MSE_plot(x_label, MSE_test_mse_mat, Random_test_mse_mat, save_name, VAR_test_mse_mat=None, plot_var=False):\n",
    "            # Get the comparison plot for all\n",
    "            f = plt.figure(figsize=[8, 4])\n",
    "            # For easy legend\n",
    "            plt.plot(x_label, MSE_test_mse_mat[:, 0], '-', alpha=alpha,  c='tab:blue', label='AL')\n",
    "            plt.plot(x_label, Random_test_mse_mat[:, 0], '-', alpha=alpha,  c='tab:orange', label='Random')\n",
    "            if plot_var:\n",
    "                plt.plot(x_label, VAR_test_mse_mat[:, 0], '-', alpha=alpha,  c='tab:green', label='VAR')\n",
    "            for i in range(1, num_trails):\n",
    "                plt.plot(x_label, MSE_test_mse_mat[:, i], '-', alpha=alpha,  c='tab:blue')\n",
    "                plt.plot(x_label, Random_test_mse_mat[:, i], '-', alpha=alpha,  c='tab:orange')\n",
    "                if plot_var:\n",
    "                    plt.plot(x_label, VAR_test_mse_mat[:, i], '-', alpha=alpha,  c='tab:green')\n",
    "            plt.xlabel('num_train')\n",
    "            plt.ylabel('MSE-(VAR) / Random Ratio')\n",
    "            plt.yscale('log')\n",
    "            plt.legend()\n",
    "            plt.title(os.path.basename(save_name))\n",
    "            plt.savefig(save_name + 'test_loss_overlay.png')\n",
    "\n",
    "        ###################################\n",
    "        # # Plotting VAR correlation plot #\n",
    "        ###################################\n",
    "        def plot_coref(cur_folder, num_trails, save_name, coef_loader, coef_name):\n",
    "            f = plt.figure(figsize=[8, 4])\n",
    "            var_folder = cur_folder.replace('MSE','VAR')\n",
    "            coeff = coef_loader(var_folder, num_trails)\n",
    "            for i in range(num_trails):\n",
    "                plt.plot(coeff[i], 'x', alpha=0.2)\n",
    "            plt.ylim([0, 1])\n",
    "            plt.xlabel('epoch')\n",
    "            plt.ylabel('correlation')\n",
    "            plt.savefig(save_name + coef_name + '_cor.png')\n",
    "\n",
    "        #######################################################\n",
    "        # Plotting the Kendall's tau for correlation analysis #\n",
    "        #######################################################\n",
    "        # One-liner calling functions\n",
    "        plot_ratio(MSE_test_mse_mat, Random_test_mse_mat, x_label, ylabel='MSE / Random Ratio', save_name=save_name + 'MSE_RD_')                # Plot the ratio plot between MSE and random\n",
    "        plot_test_MSE_plot(x_label, MSE_test_mse_mat, Random_test_mse_mat, save_name, VAR_test_mse_mat=VAR_test_mse_mat, plot_var=plot_var)     # Plot the test MSE line plot\n",
    "\n",
    "        if plot_var:    # For variance experiments \n",
    "            plot_ratio(VAR_test_mse_mat, Random_test_mse_mat, x_label, ylabel='VAR / Random Ratio', save_name=save_name + 'VAR_RD_')            # Plot the ratio plot between VAR and random\n",
    "            plot_coref(cur_folder, num_trails, save_name, coef_loader=load_var_coeff, coef_name='VAR')                                                                                       # Plot the VAR R coeff plot\n",
    "            plot_coref(cur_folder, num_trails, save_name, coef_laoder=load_kendal_tau, coef_name='Tau')                                         # Plot the VAR Tau coeff plot   \n",
    "\n",
    "\n",
    "        \n",
    "\n",
    "        \n",
    "        plt.clf()\n",
    "        "
   ]
  },
  {
   "cell_type": "markdown",
   "metadata": {},
   "source": [
    "# Testing the numpy random seed"
   ]
  },
  {
   "cell_type": "code",
   "execution_count": 8,
   "metadata": {},
   "outputs": [
    {
     "name": "stdout",
     "output_type": "stream",
     "text": [
      "6.246801957676833\n",
      "[3.60162247e+00 5.71874087e-04 1.51166286e+00 7.33779454e-01\n",
      " 4.61692974e-01 9.31301057e-01 1.72780364e+00 1.98383737e+00\n",
      " 2.69408367e+00 2.09597257e+00]\n"
     ]
    }
   ],
   "source": [
    "import numpy as np\n",
    "np.random.seed(1)\n",
    "print(np.random.uniform(10))\n",
    "print(np.random.uniform(0, 5, 10))\n"
   ]
  },
  {
   "cell_type": "code",
   "execution_count": 7,
   "metadata": {},
   "outputs": [
    {
     "name": "stdout",
     "output_type": "stream",
     "text": [
      "6.246801957676833\n",
      "[3.60162247e+00 5.71874087e-04 1.51166286e+00 7.33779454e-01\n",
      " 4.61692974e-01 9.31301057e-01 1.72780364e+00 1.98383737e+00\n",
      " 2.69408367e+00 2.09597257e+00]\n"
     ]
    }
   ],
   "source": [
    "np.random.seed(1)\n",
    "print(np.random.uniform(10))\n",
    "print(np.random.uniform(0, 5, 10))"
   ]
  },
  {
   "cell_type": "code",
   "execution_count": null,
   "metadata": {},
   "outputs": [],
   "source": []
  }
 ],
 "metadata": {
  "interpreter": {
   "hash": "e0c901c02675fee51393c33bfa502e33ca284fb17fdf86b8a4f5c9070382ed49"
  },
  "kernelspec": {
   "display_name": "Python 3.7.9 64-bit ('benicml': conda)",
   "name": "python3"
  },
  "language_info": {
   "codemirror_mode": {
    "name": "ipython",
    "version": 3
   },
   "file_extension": ".py",
   "mimetype": "text/x-python",
   "name": "python",
   "nbconvert_exporter": "python",
   "pygments_lexer": "ipython3",
   "version": "3.7.9"
  }
 },
 "nbformat": 4,
 "nbformat_minor": 4
}
