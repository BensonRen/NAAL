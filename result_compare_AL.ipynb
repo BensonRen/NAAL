{
 "cells": [
  {
   "cell_type": "markdown",
   "source": [
    "# Result comparison for AL"
   ],
   "metadata": {}
  },
  {
   "cell_type": "code",
   "execution_count": 2,
   "source": [
    "import numpy as np\n",
    "import pandas as pd\n",
    "import matplotlib.pyplot as plt\n",
    "import os"
   ],
   "outputs": [],
   "metadata": {}
  },
  {
   "cell_type": "code",
   "execution_count": 3,
   "source": [
    "def load_mses(folder):\n",
    "    \"\"\"\n",
    "    Load the mses of a certain model, being called by the aggregate function below\n",
    "    \"\"\"\n",
    "    test_mse = np.load(os.path.join(folder, 'test_mse.npy'))\n",
    "    train_mse = np.load(os.path.join(folder, 'train_mse.npy'))\n",
    "    selected_after_train_mse = np.load(os.path.join(folder, 'mse_selected_after_train.npy'))\n",
    "    return test_mse, train_mse, selected_after_train_mse\n",
    "\n",
    "def load_ensemble_mses(folder, num_trails, avg_test_mse_mat=None, avg_train_mse_mat=None, avg_selected_after_train_mse_mat=None):\n",
    "    \"\"\"\n",
    "    Load multiple mse file from different trails from num_trails parameter and \n",
    "    aggregate them by taking mean\n",
    "    \"\"\"\n",
    "    if avg_test_mse_mat is None:\n",
    "        avg_test_mse_mat, avg_train_mse_mat, avg_selected_after_train_mse_mat = load_matrix(folder, num_trails)\n",
    "    # Take the average\n",
    "    return np.mean(avg_test_mse_mat, axis=1), np.mean(avg_train_mse_mat, axis=1), np.mean(avg_selected_after_train_mse_mat, axis=1)\n",
    "\n",
    "def load_matrix(folder, num_trails):\n",
    "    \"\"\"\n",
    "    As the error is prone to outlier in the x value, therefore we can not simply do average (the outliers have explicitly higher weights)\n",
    "    Here we are showing the ratio of training and testing\n",
    "    \"\"\"\n",
    "    avg_test_mse_mat, avg_train_mse_mat, avg_selected_after_train_mse_mat = [], [], []\n",
    "    for i in range(num_trails):\n",
    "        # Replace to get the new folder name\n",
    "        folder_name = folder.replace('trail_0','trail_{}'.format(i))\n",
    "        # From folder name get all the mse lists\n",
    "        test_mse, train_mse, selected_after_train_mse = load_mses(folder_name)\n",
    "        # Average them\n",
    "        avg_test_mse_mat.append(test_mse)\n",
    "        avg_train_mse_mat.append(train_mse)\n",
    "        avg_selected_after_train_mse_mat.append(selected_after_train_mse)\n",
    "    avg_test_mse_mat = np.array(avg_test_mse_mat).transpose()\n",
    "    avg_train_mse_mat = np.array(avg_train_mse_mat).transpose()\n",
    "    avg_selected_after_train_mse_mat = np.array(avg_selected_after_train_mse_mat).transpose()\n",
    "    print('shape = ', np.shape(avg_test_mse_mat))\n",
    "    return avg_test_mse_mat, avg_train_mse_mat, avg_selected_after_train_mse_mat\n"
   ],
   "outputs": [],
   "metadata": {}
  },
  {
   "cell_type": "code",
   "execution_count": 5,
   "source": [
    "num_trails = 5\n",
    "#MSE_retrain_False_bs_1024_pool_10_dx_5_x0_20_nmod_5\n",
    "#folder = 'results/fig'\n",
    "folder = '/home/sr365/NAAL/results/fig/retrain_True'\n",
    "#folder = '/home/sr365/NAAL/results/fig/retrain_False'\n",
    "#folder = 'results/fig/retrain_true_al_step_50/x0_20'\n",
    "\n",
    "#folder_list = ['/home/sr365/NAAL/results/fig/retrain_True', '/home/sr365/NAAL/results/fig/retrain_False','results/fig/retrain_true_al_step_50/x0_20']\n",
    "folder_list = ['results/fig/retrain_true_al_step_50/x0_10']\n",
    "for folder in folder_list:\n",
    "    for file in os.listdir(folder):\n",
    "        cur_folder = os.path.join(folder, file)\n",
    "        # Makue sure this is a folder\n",
    "        if not os.path.isdir(cur_folder):\n",
    "            continue\n",
    "        # Only start from the M SE folders and look for comparison\n",
    "        if not 'MSE' in cur_folder or not 'trail_0' in cur_folder:\n",
    "            continue\n",
    "        \n",
    "        # The reading part\n",
    "        #MSE_test_mse, MSE_train_mse, MSE_selected_after_train_mse = load_mses(cur_folder)\n",
    "        MSE_test_mse_mat, MSE_train_mse_mat, MSE_selected_after_train_mse_mat = load_matrix(cur_folder, num_trails)\n",
    "        MSE_test_mse, MSE_train_mse, MSE_selected_after_train_mse = load_ensemble_mses(cur_folder, num_trails, MSE_test_mse_mat, MSE_train_mse_mat, MSE_selected_after_train_mse_mat)\n",
    "        \n",
    "        random_folder = cur_folder.replace('MSE','Random')\n",
    "        #RD_test_mse, RD_train_mse, RD_selected_after_train_mse = load_mses(random_folder)\n",
    "        Random_test_mse_mat, Random_train_mse_mat, Random_selected_after_train_mse_mat = load_matrix(random_folder, num_trails)\n",
    "        RD_test_mse, RD_train_mse, RD_selected_after_train_mse = load_ensemble_mses(random_folder, num_trails, Random_test_mse_mat, Random_train_mse_mat, Random_selected_after_train_mse_mat)\n",
    "        \n",
    "        \n",
    "        dx = int(file.split('_dx_')[-1].split('_')[0])\n",
    "        x0 = int(file.split('_x0_')[-1].split('_')[0])\n",
    "        print('for {}, dx = {}, x0 = {}'.format(file, dx, x0))\n",
    "        # Use the xlabel with number of data points\n",
    "        x_label = np.array(range(len(MSE_test_mse))) * dx + x0\n",
    "        save_name = os.path.join(folder, file.replace('MSE_','').replace('_trail_0_',''))\n",
    "        ##########################################\n",
    "        # Plotting various MSE metrics together #\n",
    "        ##########################################\n",
    "        f = plt.figure(figsize=[8, 4])\n",
    "        #ax1 = plt.subplot(211)\n",
    "        plt.plot(x_label, MSE_test_mse, '-x', c='tab:blue', label='MSE test')\n",
    "        plt.plot(x_label, RD_test_mse, '-x', c='tab:orange', label='RD test')\n",
    "        plt.plot(x_label, MSE_train_mse, '--x', c='tab:blue', linewidth=2, label='MSE train')\n",
    "        plt.plot(x_label, RD_train_mse, '--rx', c='tab:orange', linewidth=2, label='RD train')\n",
    "        plt.legend()\n",
    "        plt.yscale('log')\n",
    "        plt.xlabel('num_train')\n",
    "        plt.ylabel('MSE')\n",
    "        plt.title(save_name)\n",
    "        plt.savefig(save_name+'.png')\n",
    "        plt.clf()\n",
    "\n",
    "        ###################################\n",
    "        # Plotting AL/Raondom Ratio plot #\n",
    "        ###################################\n",
    "        # Get the MSE/Random ratio\n",
    "        test_mse_ratio = MSE_test_mse_mat / Random_test_mse_mat\n",
    "        #train_mse_ratio =  MSE_train_mse_mat / Random_train_mse_mat\n",
    "        percent_better = np.mean(test_mse_ratio < 1)\n",
    "        test_mse_ratio[test_mse_ratio < 1] = -np.log(1/test_mse_ratio[test_mse_ratio < 1])\n",
    "        test_mse_ratio[test_mse_ratio >= 1] = np.log(test_mse_ratio[test_mse_ratio >= 1])\n",
    "        # Plot the ratio figure\n",
    "        f = plt.figure(figsize=[8, 4])\n",
    "        for i in range(num_trails):\n",
    "            plt.plot(x_label, test_mse_ratio[:, i],'x')\n",
    "        plt.plot(x_label, np.zeros_like(x_label),'--r', label='ref: {:.1f}%'.format(percent_better*100))\n",
    "        plt.legend()\n",
    "        #plt.ylim([-2, 2])\n",
    "        #plt.yscale('log')\n",
    "        plt.xlabel('num_train')\n",
    "        plt.ylabel('MSE / Random Ratio')\n",
    "        plt.title(save_name)\n",
    "        plt.savefig(save_name + 'ratio_plot.png')\n",
    "        plt.clf()\n",
    "        \n",
    "        #######################################\n",
    "        # # Plotting Test MSE comparison plot #\n",
    "        #######################################\n",
    "        # Get the comparison plot for all\n",
    "        f = plt.figure(figsize=[8, 4])\n",
    "        # For easy legend\n",
    "        plt.plot(x_label, MSE_test_mse_mat[:, 0], '-', alpha=0.5,  c='tab:blue', label='AL')\n",
    "        plt.plot(x_label, Random_test_mse_mat[:, 0], '-', alpha=0.5,  c='tab:orange', label='Random')\n",
    "        for i in range(1, num_trails):\n",
    "            plt.plot(x_label, MSE_test_mse_mat[:, i], '-', alpha=0.5,  c='tab:blue')\n",
    "            plt.plot(x_label, Random_test_mse_mat[:, i], '-', alpha=0.5,  c='tab:orange')\n",
    "        plt.xlabel('num_train')\n",
    "        plt.ylabel('MSE / Random Ratio')\n",
    "        plt.title(save_name)\n",
    "        plt.yscale('log')\n",
    "        plt.legend()\n",
    "        plt.savefig(save_name + 'test_loss_overlay.png')\n",
    "        plt.clf()\n",
    "        #break\n",
    "        \n",
    "        "
   ],
   "outputs": [
    {
     "output_type": "stream",
     "name": "stdout",
     "text": [
      "shape =  (50, 5)\n",
      "shape =  (50, 5)\n",
      "for MSE_retrain_True_bs_1024_pool_50_dx_10_step_50_x0_10_nmod_5_trail_0, dx = 10, x0 = 10\n",
      "shape =  (50, 5)\n",
      "shape =  (50, 5)\n",
      "for MSE_retrain_True_bs_1024_pool_200_dx_20_step_50_x0_10_nmod_5_trail_0, dx = 20, x0 = 10\n",
      "shape =  (50, 5)\n",
      "shape =  (50, 5)\n",
      "for MSE_retrain_True_bs_1024_pool_100_dx_10_step_50_x0_10_nmod_5_trail_0, dx = 10, x0 = 10\n",
      "shape =  (50, 5)\n",
      "shape =  (50, 5)\n",
      "for MSE_retrain_True_bs_1024_pool_50_dx_5_step_50_x0_10_nmod_5_trail_0, dx = 5, x0 = 10\n",
      "shape =  (50, 5)\n",
      "shape =  (50, 5)\n",
      "for MSE_retrain_True_bs_1024_pool_100_dx_20_step_50_x0_10_nmod_5_trail_0, dx = 20, x0 = 10\n",
      "shape =  (50, 5)\n",
      "shape =  (50, 5)\n",
      "for MSE_retrain_True_bs_1024_pool_25_dx_5_step_50_x0_10_nmod_5_trail_0, dx = 5, x0 = 10\n"
     ]
    },
    {
     "output_type": "display_data",
     "data": {
      "text/plain": [
       "<Figure size 576x288 with 0 Axes>"
      ]
     },
     "metadata": {}
    },
    {
     "output_type": "display_data",
     "data": {
      "text/plain": [
       "<Figure size 576x288 with 0 Axes>"
      ]
     },
     "metadata": {}
    },
    {
     "output_type": "display_data",
     "data": {
      "text/plain": [
       "<Figure size 576x288 with 0 Axes>"
      ]
     },
     "metadata": {}
    },
    {
     "output_type": "display_data",
     "data": {
      "text/plain": [
       "<Figure size 576x288 with 0 Axes>"
      ]
     },
     "metadata": {}
    },
    {
     "output_type": "display_data",
     "data": {
      "text/plain": [
       "<Figure size 576x288 with 0 Axes>"
      ]
     },
     "metadata": {}
    },
    {
     "output_type": "display_data",
     "data": {
      "text/plain": [
       "<Figure size 576x288 with 0 Axes>"
      ]
     },
     "metadata": {}
    },
    {
     "output_type": "display_data",
     "data": {
      "text/plain": [
       "<Figure size 576x288 with 0 Axes>"
      ]
     },
     "metadata": {}
    },
    {
     "output_type": "display_data",
     "data": {
      "text/plain": [
       "<Figure size 576x288 with 0 Axes>"
      ]
     },
     "metadata": {}
    },
    {
     "output_type": "display_data",
     "data": {
      "text/plain": [
       "<Figure size 576x288 with 0 Axes>"
      ]
     },
     "metadata": {}
    },
    {
     "output_type": "display_data",
     "data": {
      "text/plain": [
       "<Figure size 576x288 with 0 Axes>"
      ]
     },
     "metadata": {}
    },
    {
     "output_type": "display_data",
     "data": {
      "text/plain": [
       "<Figure size 576x288 with 0 Axes>"
      ]
     },
     "metadata": {}
    },
    {
     "output_type": "display_data",
     "data": {
      "text/plain": [
       "<Figure size 576x288 with 0 Axes>"
      ]
     },
     "metadata": {}
    },
    {
     "output_type": "display_data",
     "data": {
      "text/plain": [
       "<Figure size 576x288 with 0 Axes>"
      ]
     },
     "metadata": {}
    },
    {
     "output_type": "display_data",
     "data": {
      "text/plain": [
       "<Figure size 576x288 with 0 Axes>"
      ]
     },
     "metadata": {}
    },
    {
     "output_type": "display_data",
     "data": {
      "text/plain": [
       "<Figure size 576x288 with 0 Axes>"
      ]
     },
     "metadata": {}
    },
    {
     "output_type": "display_data",
     "data": {
      "text/plain": [
       "<Figure size 576x288 with 0 Axes>"
      ]
     },
     "metadata": {}
    },
    {
     "output_type": "display_data",
     "data": {
      "text/plain": [
       "<Figure size 576x288 with 0 Axes>"
      ]
     },
     "metadata": {}
    },
    {
     "output_type": "display_data",
     "data": {
      "text/plain": [
       "<Figure size 576x288 with 0 Axes>"
      ]
     },
     "metadata": {}
    }
   ],
   "metadata": {}
  },
  {
   "cell_type": "code",
   "execution_count": null,
   "source": [],
   "outputs": [],
   "metadata": {}
  },
  {
   "cell_type": "markdown",
   "source": [],
   "metadata": {}
  }
 ],
 "metadata": {
  "kernelspec": {
   "name": "python3",
   "display_name": "Python 3.7.9 64-bit ('benicml': conda)"
  },
  "language_info": {
   "codemirror_mode": {
    "name": "ipython",
    "version": 3
   },
   "file_extension": ".py",
   "mimetype": "text/x-python",
   "name": "python",
   "nbconvert_exporter": "python",
   "pygments_lexer": "ipython3",
   "version": "3.7.9"
  },
  "interpreter": {
   "hash": "6fc8b73020395002b257a44de5fd6fa1e45814af8917351ae38e52a31055def3"
  }
 },
 "nbformat": 4,
 "nbformat_minor": 4
}