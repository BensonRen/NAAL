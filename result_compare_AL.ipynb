{
 "cells": [
  {
   "cell_type": "markdown",
   "metadata": {},
   "source": [
    "# Result comparison for AL"
   ]
  },
  {
   "cell_type": "code",
   "execution_count": 1,
   "metadata": {},
   "outputs": [],
   "source": [
    "import numpy as np\n",
    "import pandas as pd\n",
    "import matplotlib.pyplot as plt\n",
    "import os"
   ]
  },
  {
   "cell_type": "code",
   "execution_count": 2,
   "metadata": {},
   "outputs": [],
   "source": [
    "def load_mses(folder):\n",
    "    \"\"\"\n",
    "    Load the mses of a certain model, being called by the aggregate function below\n",
    "    \"\"\"\n",
    "    test_mse = np.load(os.path.join(folder, 'test_mse.npy'))\n",
    "    train_mse = np.load(os.path.join(folder, 'train_mse.npy'))\n",
    "    selected_after_train_mse = np.load(os.path.join(folder, 'mse_selected_after_train.npy'))\n",
    "    return test_mse, train_mse, selected_after_train_mse\n",
    "\n",
    "def load_ensemble_mses(folder, num_trails, avg_test_mse_mat=None, avg_train_mse_mat=None, avg_selected_after_train_mse_mat=None):\n",
    "    \"\"\"\n",
    "    Load multiple mse file from different trails from num_trails parameter and \n",
    "    aggregate them by taking mean\n",
    "    \"\"\"\n",
    "    if avg_test_mse_mat is None:\n",
    "        avg_test_mse_mat, avg_train_mse_mat, avg_selected_after_train_mse_mat = load_matrix(folder, num_trails)\n",
    "    # Take the average\n",
    "    return np.mean(avg_test_mse_mat, axis=1), np.mean(avg_train_mse_mat, axis=1), np.mean(avg_selected_after_train_mse_mat, axis=1)\n",
    "\n",
    "def load_matrix(folder, num_trails):\n",
    "    \"\"\"\n",
    "    As the error is prone to outlier in the x value, therefore we can not simply do average (the outliers have explicitly higher weights)\n",
    "    Here we are showing the ratio of training and testing\n",
    "    \"\"\"\n",
    "    avg_test_mse_mat, avg_train_mse_mat, avg_selected_after_train_mse_mat = [], [], []\n",
    "    for i in range(num_trails):\n",
    "        # Replace to get the new folder name\n",
    "        folder_name = folder.replace('trail_0','trail_{}'.format(i))\n",
    "        # From folder name get all the mse lists\n",
    "        test_mse, train_mse, selected_after_train_mse = load_mses(folder_name)\n",
    "        # Average them\n",
    "        avg_test_mse_mat.append(test_mse)\n",
    "        avg_train_mse_mat.append(train_mse)\n",
    "        avg_selected_after_train_mse_mat.append(selected_after_train_mse)\n",
    "    avg_test_mse_mat = np.array(avg_test_mse_mat).transpose()\n",
    "    avg_train_mse_mat = np.array(avg_train_mse_mat).transpose()\n",
    "    avg_selected_after_train_mse_mat = np.array(avg_selected_after_train_mse_mat).transpose()\n",
    "    print('shape = ', np.shape(avg_test_mse_mat))\n",
    "    return avg_test_mse_mat, avg_train_mse_mat, avg_selected_after_train_mse_mat\n"
   ]
  },
  {
   "cell_type": "code",
   "execution_count": 5,
   "metadata": {},
   "outputs": [
    {
     "name": "stdout",
     "output_type": "stream",
     "text": [
      "shape =  (38, 20)\n",
      "shape =  (38, 20)\n"
     ]
    },
    {
     "ename": "FileNotFoundError",
     "evalue": "[Errno 2] No such file or directory: 'results/30_sine_nmod/VAR_retrain_True_bs_1024_pool_100_dx_5_step_38_x0_10_nmod_10_trail_0/test_mse.npy'",
     "output_type": "error",
     "traceback": [
      "\u001b[0;31m---------------------------------------------------------------------------\u001b[0m",
      "\u001b[0;31mFileNotFoundError\u001b[0m                         Traceback (most recent call last)",
      "\u001b[0;32m<ipython-input-5-5ab08647c75e>\u001b[0m in \u001b[0;36m<module>\u001b[0;34m\u001b[0m\n\u001b[1;32m     37\u001b[0m             \u001b[0;31m# Var plotting\u001b[0m\u001b[0;34m\u001b[0m\u001b[0;34m\u001b[0m\u001b[0;34m\u001b[0m\u001b[0m\n\u001b[1;32m     38\u001b[0m             \u001b[0mvar_folder\u001b[0m \u001b[0;34m=\u001b[0m \u001b[0mcur_folder\u001b[0m\u001b[0;34m.\u001b[0m\u001b[0mreplace\u001b[0m\u001b[0;34m(\u001b[0m\u001b[0;34m'MSE'\u001b[0m\u001b[0;34m,\u001b[0m\u001b[0;34m'VAR'\u001b[0m\u001b[0;34m)\u001b[0m\u001b[0;34m\u001b[0m\u001b[0;34m\u001b[0m\u001b[0m\n\u001b[0;32m---> 39\u001b[0;31m             \u001b[0mVAR_test_mse_mat\u001b[0m\u001b[0;34m,\u001b[0m \u001b[0mVAR_train_mse_mat\u001b[0m\u001b[0;34m,\u001b[0m \u001b[0mVAR_selected_after_train_mse_mat\u001b[0m \u001b[0;34m=\u001b[0m \u001b[0mload_matrix\u001b[0m\u001b[0;34m(\u001b[0m\u001b[0mvar_folder\u001b[0m\u001b[0;34m,\u001b[0m \u001b[0mnum_trails\u001b[0m\u001b[0;34m)\u001b[0m\u001b[0;34m\u001b[0m\u001b[0;34m\u001b[0m\u001b[0m\n\u001b[0m\u001b[1;32m     40\u001b[0m             \u001b[0mVAR_test_mse\u001b[0m\u001b[0;34m,\u001b[0m \u001b[0mVAR_train_mse\u001b[0m\u001b[0;34m,\u001b[0m \u001b[0mVAR_selected_after_train_mse\u001b[0m \u001b[0;34m=\u001b[0m \u001b[0mload_ensemble_mses\u001b[0m\u001b[0;34m(\u001b[0m\u001b[0mvar_folder\u001b[0m\u001b[0;34m,\u001b[0m \u001b[0mnum_trails\u001b[0m\u001b[0;34m,\u001b[0m \u001b[0mVAR_test_mse_mat\u001b[0m\u001b[0;34m,\u001b[0m \u001b[0mVAR_train_mse_mat\u001b[0m\u001b[0;34m,\u001b[0m \u001b[0mVAR_selected_after_train_mse_mat\u001b[0m\u001b[0;34m)\u001b[0m\u001b[0;34m\u001b[0m\u001b[0;34m\u001b[0m\u001b[0m\n\u001b[1;32m     41\u001b[0m \u001b[0;34m\u001b[0m\u001b[0m\n",
      "\u001b[0;32m<ipython-input-2-e316bc9edb89>\u001b[0m in \u001b[0;36mload_matrix\u001b[0;34m(folder, num_trails)\u001b[0m\n\u001b[1;32m     28\u001b[0m         \u001b[0mfolder_name\u001b[0m \u001b[0;34m=\u001b[0m \u001b[0mfolder\u001b[0m\u001b[0;34m.\u001b[0m\u001b[0mreplace\u001b[0m\u001b[0;34m(\u001b[0m\u001b[0;34m'trail_0'\u001b[0m\u001b[0;34m,\u001b[0m\u001b[0;34m'trail_{}'\u001b[0m\u001b[0;34m.\u001b[0m\u001b[0mformat\u001b[0m\u001b[0;34m(\u001b[0m\u001b[0mi\u001b[0m\u001b[0;34m)\u001b[0m\u001b[0;34m)\u001b[0m\u001b[0;34m\u001b[0m\u001b[0;34m\u001b[0m\u001b[0m\n\u001b[1;32m     29\u001b[0m         \u001b[0;31m# From folder name get all the mse lists\u001b[0m\u001b[0;34m\u001b[0m\u001b[0;34m\u001b[0m\u001b[0;34m\u001b[0m\u001b[0m\n\u001b[0;32m---> 30\u001b[0;31m         \u001b[0mtest_mse\u001b[0m\u001b[0;34m,\u001b[0m \u001b[0mtrain_mse\u001b[0m\u001b[0;34m,\u001b[0m \u001b[0mselected_after_train_mse\u001b[0m \u001b[0;34m=\u001b[0m \u001b[0mload_mses\u001b[0m\u001b[0;34m(\u001b[0m\u001b[0mfolder_name\u001b[0m\u001b[0;34m)\u001b[0m\u001b[0;34m\u001b[0m\u001b[0;34m\u001b[0m\u001b[0m\n\u001b[0m\u001b[1;32m     31\u001b[0m         \u001b[0;31m# Average them\u001b[0m\u001b[0;34m\u001b[0m\u001b[0;34m\u001b[0m\u001b[0;34m\u001b[0m\u001b[0m\n\u001b[1;32m     32\u001b[0m         \u001b[0mavg_test_mse_mat\u001b[0m\u001b[0;34m.\u001b[0m\u001b[0mappend\u001b[0m\u001b[0;34m(\u001b[0m\u001b[0mtest_mse\u001b[0m\u001b[0;34m)\u001b[0m\u001b[0;34m\u001b[0m\u001b[0;34m\u001b[0m\u001b[0m\n",
      "\u001b[0;32m<ipython-input-2-e316bc9edb89>\u001b[0m in \u001b[0;36mload_mses\u001b[0;34m(folder)\u001b[0m\n\u001b[1;32m      3\u001b[0m     \u001b[0mLoad\u001b[0m \u001b[0mthe\u001b[0m \u001b[0mmses\u001b[0m \u001b[0mof\u001b[0m \u001b[0ma\u001b[0m \u001b[0mcertain\u001b[0m \u001b[0mmodel\u001b[0m\u001b[0;34m,\u001b[0m \u001b[0mbeing\u001b[0m \u001b[0mcalled\u001b[0m \u001b[0mby\u001b[0m \u001b[0mthe\u001b[0m \u001b[0maggregate\u001b[0m \u001b[0mfunction\u001b[0m \u001b[0mbelow\u001b[0m\u001b[0;34m\u001b[0m\u001b[0;34m\u001b[0m\u001b[0m\n\u001b[1;32m      4\u001b[0m     \"\"\"\n\u001b[0;32m----> 5\u001b[0;31m     \u001b[0mtest_mse\u001b[0m \u001b[0;34m=\u001b[0m \u001b[0mnp\u001b[0m\u001b[0;34m.\u001b[0m\u001b[0mload\u001b[0m\u001b[0;34m(\u001b[0m\u001b[0mos\u001b[0m\u001b[0;34m.\u001b[0m\u001b[0mpath\u001b[0m\u001b[0;34m.\u001b[0m\u001b[0mjoin\u001b[0m\u001b[0;34m(\u001b[0m\u001b[0mfolder\u001b[0m\u001b[0;34m,\u001b[0m \u001b[0;34m'test_mse.npy'\u001b[0m\u001b[0;34m)\u001b[0m\u001b[0;34m)\u001b[0m\u001b[0;34m\u001b[0m\u001b[0;34m\u001b[0m\u001b[0m\n\u001b[0m\u001b[1;32m      6\u001b[0m     \u001b[0mtrain_mse\u001b[0m \u001b[0;34m=\u001b[0m \u001b[0mnp\u001b[0m\u001b[0;34m.\u001b[0m\u001b[0mload\u001b[0m\u001b[0;34m(\u001b[0m\u001b[0mos\u001b[0m\u001b[0;34m.\u001b[0m\u001b[0mpath\u001b[0m\u001b[0;34m.\u001b[0m\u001b[0mjoin\u001b[0m\u001b[0;34m(\u001b[0m\u001b[0mfolder\u001b[0m\u001b[0;34m,\u001b[0m \u001b[0;34m'train_mse.npy'\u001b[0m\u001b[0;34m)\u001b[0m\u001b[0;34m)\u001b[0m\u001b[0;34m\u001b[0m\u001b[0;34m\u001b[0m\u001b[0m\n\u001b[1;32m      7\u001b[0m     \u001b[0mselected_after_train_mse\u001b[0m \u001b[0;34m=\u001b[0m \u001b[0mnp\u001b[0m\u001b[0;34m.\u001b[0m\u001b[0mload\u001b[0m\u001b[0;34m(\u001b[0m\u001b[0mos\u001b[0m\u001b[0;34m.\u001b[0m\u001b[0mpath\u001b[0m\u001b[0;34m.\u001b[0m\u001b[0mjoin\u001b[0m\u001b[0;34m(\u001b[0m\u001b[0mfolder\u001b[0m\u001b[0;34m,\u001b[0m \u001b[0;34m'mse_selected_after_train.npy'\u001b[0m\u001b[0;34m)\u001b[0m\u001b[0;34m)\u001b[0m\u001b[0;34m\u001b[0m\u001b[0;34m\u001b[0m\u001b[0m\n",
      "\u001b[0;32m~/anaconda3/envs/benicml/lib/python3.7/site-packages/numpy/lib/npyio.py\u001b[0m in \u001b[0;36mload\u001b[0;34m(file, mmap_mode, allow_pickle, fix_imports, encoding)\u001b[0m\n\u001b[1;32m    414\u001b[0m             \u001b[0mown_fid\u001b[0m \u001b[0;34m=\u001b[0m \u001b[0;32mFalse\u001b[0m\u001b[0;34m\u001b[0m\u001b[0;34m\u001b[0m\u001b[0m\n\u001b[1;32m    415\u001b[0m         \u001b[0;32melse\u001b[0m\u001b[0;34m:\u001b[0m\u001b[0;34m\u001b[0m\u001b[0;34m\u001b[0m\u001b[0m\n\u001b[0;32m--> 416\u001b[0;31m             \u001b[0mfid\u001b[0m \u001b[0;34m=\u001b[0m \u001b[0mstack\u001b[0m\u001b[0;34m.\u001b[0m\u001b[0menter_context\u001b[0m\u001b[0;34m(\u001b[0m\u001b[0mopen\u001b[0m\u001b[0;34m(\u001b[0m\u001b[0mos_fspath\u001b[0m\u001b[0;34m(\u001b[0m\u001b[0mfile\u001b[0m\u001b[0;34m)\u001b[0m\u001b[0;34m,\u001b[0m \u001b[0;34m\"rb\"\u001b[0m\u001b[0;34m)\u001b[0m\u001b[0;34m)\u001b[0m\u001b[0;34m\u001b[0m\u001b[0;34m\u001b[0m\u001b[0m\n\u001b[0m\u001b[1;32m    417\u001b[0m             \u001b[0mown_fid\u001b[0m \u001b[0;34m=\u001b[0m \u001b[0;32mTrue\u001b[0m\u001b[0;34m\u001b[0m\u001b[0;34m\u001b[0m\u001b[0m\n\u001b[1;32m    418\u001b[0m \u001b[0;34m\u001b[0m\u001b[0m\n",
      "\u001b[0;31mFileNotFoundError\u001b[0m: [Errno 2] No such file or directory: 'results/30_sine_nmod/VAR_retrain_True_bs_1024_pool_100_dx_5_step_38_x0_10_nmod_10_trail_0/test_mse.npy'"
     ]
    }
   ],
   "source": [
    "num_trails = 20\n",
    "if num_trails <= 10:\n",
    "    alpha = 0.5\n",
    "else:\n",
    "    alpha = 0.2\n",
    "plot_var = False\n",
    "#MSE_retrain_False_bs_1024_pool_10_dx_5_x0_20_nmod_5\n",
    "#folder = 'results/fig'\n",
    "folder = '/home/sr365/NAAL/results/fig/retrain_True'\n",
    "#folder = '/home/sr365/NAAL/results/fig/retrain_False'\n",
    "#folder = 'results/fig/retrain_true_al_step_50/x0_20'\n",
    "\n",
    "#folder_list = ['/home/sr365/NAAL/results/fig/retrain_True', '/home/sr365/NAAL/results/fig/retrain_False','results/fig/retrain_true_al_step_50/x0_20']\n",
    "#folder_list = ['/home/sr365/NAAL/results/single_model']\n",
    "folder_list = ['results/30_sine_nmod']\n",
    "for folder in folder_list:\n",
    "    for file in os.listdir(folder):\n",
    "        cur_folder = os.path.join(folder, file)\n",
    "        # Makue sure this is a folder\n",
    "        if not os.path.isdir(cur_folder):\n",
    "            continue\n",
    "        # Only start from the M SE folders and look for comparison\n",
    "        if not 'MSE' in cur_folder or not 'trail_0' in cur_folder:\n",
    "            continue\n",
    "        \n",
    "        # The reading part\n",
    "        #MSE_test_mse, MSE_train_mse, MSE_selected_after_train_mse = load_mses(cur_folder)\n",
    "        MSE_test_mse_mat, MSE_train_mse_mat, MSE_selected_after_train_mse_mat = load_matrix(cur_folder, num_trails)\n",
    "        MSE_test_mse, MSE_train_mse, MSE_selected_after_train_mse = load_ensemble_mses(cur_folder, num_trails, MSE_test_mse_mat, MSE_train_mse_mat, MSE_selected_after_train_mse_mat)\n",
    "        \n",
    "        random_folder = cur_folder.replace('MSE','Random')\n",
    "        #RD_test_mse, RD_train_mse, RD_selected_after_train_mse = load_mses(random_folder)\n",
    "        Random_test_mse_mat, Random_train_mse_mat, Random_selected_after_train_mse_mat = load_matrix(random_folder, num_trails)\n",
    "        RD_test_mse, RD_train_mse, RD_selected_after_train_mse = load_ensemble_mses(random_folder, num_trails, Random_test_mse_mat, Random_train_mse_mat, Random_selected_after_train_mse_mat)\n",
    "\n",
    "        if plot_var:\n",
    "            # Var plotting\n",
    "            var_folder = cur_folder.replace('MSE','VAR')\n",
    "            VAR_test_mse_mat, VAR_train_mse_mat, VAR_selected_after_train_mse_mat = load_matrix(var_folder, num_trails)\n",
    "            VAR_test_mse, VAR_train_mse, VAR_selected_after_train_mse = load_ensemble_mses(var_folder, num_trails, VAR_test_mse_mat, VAR_train_mse_mat, VAR_selected_after_train_mse_mat)\n",
    "\n",
    "        dx = int(file.split('_dx_')[-1].split('_')[0])\n",
    "        x0 = int(file.split('_x0_')[-1].split('_')[0])\n",
    "        print('for {}, dx = {}, x0 = {}'.format(file, dx, x0))\n",
    "        # Use the xlabel with number of data points\n",
    "        x_label = np.array(range(len(MSE_test_mse))) * dx + x0\n",
    "        save_name = os.path.join(folder, file.replace('MSE_','').replace('_trail_0_',''))\n",
    "        ##########################################\n",
    "        # Plotting various MSE metrics together #\n",
    "        ##########################################\n",
    "        f = plt.figure(figsize=[8, 4])\n",
    "        #ax1 = plt.subplot(211)\n",
    "        plt.plot(x_label, MSE_test_mse, '-x', c='tab:blue', label='MSE test')\n",
    "        plt.plot(x_label, RD_test_mse, '-x', c='tab:orange', label='RD test')\n",
    "        plt.plot(x_label, MSE_train_mse, '--x', c='tab:blue', linewidth=2, label='MSE train')\n",
    "        plt.plot(x_label, RD_train_mse, '--x', c='tab:orange', linewidth=2, label='RD train')\n",
    "        if plot_var:\n",
    "            plt.plot(x_label, VAR_test_mse, '-x', c='tab:green', label='VAR test')\n",
    "            plt.plot(x_label, VAR_train_mse, '--x', c='tab:green', linewidth=2, label='VAR train')\n",
    "        plt.legend()\n",
    "        plt.yscale('log')\n",
    "        plt.xlabel('num_train')\n",
    "        plt.ylabel('MSE')\n",
    "        plt.title(os.path.basename(save_name))\n",
    "        plt.savefig(save_name+'.png')\n",
    "        plt.clf()\n",
    "\n",
    "        ###################################\n",
    "        # Plotting AL/Raondom Ratio plot #\n",
    "        ###################################\n",
    "        def plot_ratio(num, denom, x_value, ylabel, save_name):\n",
    "            # Get the MSE/Random ratio\n",
    "            test_mse_ratio = num / denom\n",
    "            test_mse_ratio = np.log(test_mse_ratio)\n",
    "            percent_better = np.mean(test_mse_ratio < 0)\n",
    "            #test_mse_ratio[test_mse_ratio < 1] = -np.log(1/test_mse_ratio[test_mse_ratio < 1])\n",
    "            #test_mse_ratio[test_mse_ratio >= 1] = np.log(test_mse_ratio[test_mse_ratio >= 1])\n",
    "            # Plot the ratio figure\n",
    "            f = plt.figure(figsize=[8, 4])\n",
    "            for i in range(num_trails):\n",
    "                plt.plot(x_value, test_mse_ratio[:, i],'x')\n",
    "            plt.plot(x_value, np.zeros_like(x_label),'--r', label='ref: {:.1f}%'.format(percent_better*100))\n",
    "            plt.legend()\n",
    "            #plt.ylim([-2, 2])\n",
    "            #plt.yscale('log')\n",
    "            plt.xlabel('num_train')\n",
    "            plt.ylabel(ylabel)\n",
    "            plt.title(os.path.basename(save_name))\n",
    "            plt.savefig(save_name + 'ratio_plot.png')\n",
    "            plt.clf()\n",
    "        \n",
    "        # Actual plotting\n",
    "        plot_ratio(MSE_test_mse_mat, Random_test_mse_mat, x_label, ylabel='MSE / Random Ratio', save_name=save_name + 'MSE_RD_')\n",
    "        if plot_var:\n",
    "            plot_ratio(VAR_test_mse_mat, Random_test_mse_mat, x_label, ylabel='VAR / Random Ratio', save_name=save_name + 'VAR_RD_')\n",
    "\n",
    "        #######################################\n",
    "        # # Plotting Test MSE comparison plot #\n",
    "        #######################################\n",
    "        # Get the comparison plot for all\n",
    "        f = plt.figure(figsize=[8, 4])\n",
    "        # For easy legend\n",
    "        plt.plot(x_label, MSE_test_mse_mat[:, 0], '-', alpha=alpha,  c='tab:blue', label='AL')\n",
    "        plt.plot(x_label, Random_test_mse_mat[:, 0], '-', alpha=alpha,  c='tab:orange', label='Random')\n",
    "        if plot_var:\n",
    "            plt.plot(x_label, VAR_test_mse_mat[:, 0], '-', alpha=alpha,  c='tab:green', label='VAR')\n",
    "        for i in range(1, num_trails):\n",
    "            plt.plot(x_label, MSE_test_mse_mat[:, i], '-', alpha=alpha,  c='tab:blue')\n",
    "            plt.plot(x_label, Random_test_mse_mat[:, i], '-', alpha=alpha,  c='tab:orange')\n",
    "            if plot_var:\n",
    "                plt.plot(x_label, VAR_test_mse_mat[:, i], '-', alpha=alpha,  c='tab:green')\n",
    "        plt.xlabel('num_train')\n",
    "        plt.ylabel('MSE-(VAR) / Random Ratio')\n",
    "        plt.yscale('log')\n",
    "        plt.legend()\n",
    "        plt.title(os.path.basename(save_name))\n",
    "        plt.savefig(save_name + 'test_loss_overlay.png')\n",
    "        plt.clf()\n",
    "        #break\n",
    "        \n",
    "        "
   ]
  },
  {
   "cell_type": "markdown",
   "metadata": {},
   "source": [
    "# Testing the numpy random seed"
   ]
  },
  {
   "cell_type": "code",
   "execution_count": 8,
   "metadata": {},
   "outputs": [
    {
     "name": "stdout",
     "output_type": "stream",
     "text": [
      "6.246801957676833\n",
      "[3.60162247e+00 5.71874087e-04 1.51166286e+00 7.33779454e-01\n",
      " 4.61692974e-01 9.31301057e-01 1.72780364e+00 1.98383737e+00\n",
      " 2.69408367e+00 2.09597257e+00]\n"
     ]
    }
   ],
   "source": [
    "import numpy as np\n",
    "np.random.seed(1)\n",
    "print(np.random.uniform(10))\n",
    "print(np.random.uniform(0, 5, 10))\n"
   ]
  },
  {
   "cell_type": "code",
   "execution_count": 7,
   "metadata": {},
   "outputs": [
    {
     "name": "stdout",
     "output_type": "stream",
     "text": [
      "6.246801957676833\n",
      "[3.60162247e+00 5.71874087e-04 1.51166286e+00 7.33779454e-01\n",
      " 4.61692974e-01 9.31301057e-01 1.72780364e+00 1.98383737e+00\n",
      " 2.69408367e+00 2.09597257e+00]\n"
     ]
    }
   ],
   "source": [
    "np.random.seed(1)\n",
    "print(np.random.uniform(10))\n",
    "print(np.random.uniform(0, 5, 10))"
   ]
  },
  {
   "cell_type": "code",
   "execution_count": null,
   "metadata": {},
   "outputs": [],
   "source": []
  }
 ],
 "metadata": {
  "interpreter": {
   "hash": "e0c901c02675fee51393c33bfa502e33ca284fb17fdf86b8a4f5c9070382ed49"
  },
  "kernelspec": {
   "display_name": "Python 3.7.9 64-bit ('benicml': conda)",
   "name": "python3"
  },
  "language_info": {
   "codemirror_mode": {
    "name": "ipython",
    "version": 3
   },
   "file_extension": ".py",
   "mimetype": "text/x-python",
   "name": "python",
   "nbconvert_exporter": "python",
   "pygments_lexer": "ipython3",
   "version": "3.7.9"
  }
 },
 "nbformat": 4,
 "nbformat_minor": 4
}
